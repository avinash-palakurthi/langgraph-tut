{
 "cells": [
  {
   "cell_type": "markdown",
   "id": "b24b1e06",
   "metadata": {},
   "source": [
    "### Pydantic Basics"
   ]
  },
  {
   "cell_type": "markdown",
   "id": "91499e63",
   "metadata": {},
   "source": [
    "#### 1: BaseModel"
   ]
  },
  {
   "cell_type": "code",
   "execution_count": 2,
   "id": "789148fb",
   "metadata": {},
   "outputs": [
    {
     "name": "stdout",
     "output_type": "stream",
     "text": [
      "<class '__main__.UserDetails'>\n"
     ]
    }
   ],
   "source": [
    "from pydantic import  BaseModel \n",
    "\n",
    "class UserDetails(BaseModel):\n",
    "  username:str\n",
    "  age:int\n",
    "  city:str\n",
    "\n",
    "person1=UserDetails(username=\"JohnDoe\", age=30, city=\"New York\")\n",
    "print(type(person1))"
   ]
  },
  {
   "cell_type": "markdown",
   "id": "3a3dff93",
   "metadata": {},
   "source": [
    "#### 2: Optional Fields"
   ]
  },
  {
   "cell_type": "code",
   "execution_count": 6,
   "id": "e71c5248",
   "metadata": {},
   "outputs": [],
   "source": [
    "from typing import Optional\n",
    "\n",
    "class Employee(BaseModel):\n",
    "  id:int\n",
    "  name:str\n",
    "  age:int\n",
    "  department:Optional[str]=None #! Optional with default value None\n",
    "  is_active:Optional[bool]=True #! Optional with default value True\n",
    "  \n"
   ]
  },
  {
   "cell_type": "code",
   "execution_count": 10,
   "id": "398343fd",
   "metadata": {},
   "outputs": [
    {
     "name": "stdout",
     "output_type": "stream",
     "text": [
      "id=1101 name='Alice' age=28 department=None is_active=True\n"
     ]
    }
   ],
   "source": [
    "emp1=Employee(id=1101, name=\"Alice\", age=28,)\n",
    "print(emp1)"
   ]
  },
  {
   "cell_type": "markdown",
   "id": "6365897a",
   "metadata": {},
   "source": [
    "#### 3: List"
   ]
  },
  {
   "cell_type": "code",
   "execution_count": 11,
   "id": "ac62647e",
   "metadata": {},
   "outputs": [],
   "source": [
    "class ClassRoom(BaseModel):\n",
    "  room:str\n",
    "  students:list[str]\n",
    "  "
   ]
  },
  {
   "cell_type": "code",
   "execution_count": 12,
   "id": "4e68bf8b",
   "metadata": {},
   "outputs": [
    {
     "name": "stdout",
     "output_type": "stream",
     "text": [
      "room='A101' students=['John', 'Alice', 'Bob']\n"
     ]
    }
   ],
   "source": [
    "firstClass=ClassRoom(room=\"A101\", students=[\"John\", \"Alice\", \"Bob\"])\n",
    "print(firstClass)"
   ]
  },
  {
   "cell_type": "markdown",
   "id": "01e3c6ec",
   "metadata": {},
   "source": [
    "#### 4: Nested Values"
   ]
  },
  {
   "cell_type": "code",
   "execution_count": 7,
   "id": "726b4756",
   "metadata": {},
   "outputs": [],
   "source": [
    "\n",
    "class UserAddress(BaseModel):\n",
    "  street:str\n",
    "  city:str\n",
    "  state:str|None\n",
    "\n",
    "\n",
    "class UserDetails(BaseModel):\n",
    "  username:str\n",
    "  age:int | float\n",
    "  email:str|None\n",
    "  address:UserAddress\n",
    "  \n",
    "\n",
    "  \n",
    "\n",
    "  "
   ]
  },
  {
   "cell_type": "code",
   "execution_count": 9,
   "id": "3d42e79d",
   "metadata": {},
   "outputs": [
    {
     "name": "stdout",
     "output_type": "stream",
     "text": [
      "username='JohnDoe' age=30 email='john@gmail' address=UserAddress(street='123 ,Main St', city='New York', state=None)\n"
     ]
    }
   ],
   "source": [
    "emp1=UserDetails(\n",
    "  username=\"JohnDoe\",\n",
    "  age=30,     \n",
    "  email=\"john@gmail\",\n",
    "  address={\"street\":\"123 ,Main St\", \"city\":\"New York\", \"state\":None}\n",
    ")\n",
    "\n",
    "print(emp1)"
   ]
  }
 ],
 "metadata": {
  "kernelspec": {
   "display_name": ".venv",
   "language": "python",
   "name": "python3"
  },
  "language_info": {
   "codemirror_mode": {
    "name": "ipython",
    "version": 3
   },
   "file_extension": ".py",
   "mimetype": "text/x-python",
   "name": "python",
   "nbconvert_exporter": "python",
   "pygments_lexer": "ipython3",
   "version": "3.12.10"
  }
 },
 "nbformat": 4,
 "nbformat_minor": 5
}
